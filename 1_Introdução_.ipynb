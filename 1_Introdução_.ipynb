{
  "nbformat": 4,
  "nbformat_minor": 0,
  "metadata": {
    "colab": {
      "name": "1-Introdução .ipynb",
      "provenance": [],
      "authorship_tag": "ABX9TyPcLZkrFW+UDnCx0Q/lSMKX",
      "include_colab_link": true
    },
    "kernelspec": {
      "name": "python3",
      "display_name": "Python 3"
    },
    "language_info": {
      "name": "python"
    }
  },
  "cells": [
    {
      "cell_type": "markdown",
      "metadata": {
        "id": "view-in-github",
        "colab_type": "text"
      },
      "source": [
        "<a href=\"https://colab.research.google.com/github/LuanParro/colab/blob/main/1_Introdu%C3%A7%C3%A3o_.ipynb\" target=\"_parent\"><img src=\"https://colab.research.google.com/assets/colab-badge.svg\" alt=\"Open In Colab\"/></a>"
      ]
    },
    {
      "cell_type": "code",
      "execution_count": 16,
      "metadata": {
        "colab": {
          "base_uri": "https://localhost:8080/"
        },
        "id": "UflHcg8DhgDZ",
        "outputId": "29e78f49-c2fc-48f4-cc52-06c1ab346407"
      },
      "outputs": [
        {
          "output_type": "stream",
          "name": "stdout",
          "text": [
            "luan\n",
            "21\n",
            "nois\n",
            "Nome: luan\n",
            "Idade 21\n",
            "Email: nois\n",
            "idade é do tipo <class 'str'>\n"
          ]
        }
      ],
      "source": [
        "nome = input()\n",
        "idade = input()\n",
        "email = input()\n",
        "print(\"Nome:\", nome)\n",
        "print(\"Idade\", idade)\n",
        "print(\"Email:\", email)\n",
        "print(\"idade é do tipo\", type(idade))"
      ]
    }
  ]
}